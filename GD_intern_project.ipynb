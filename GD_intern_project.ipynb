{
 "cells": [
  {
   "cell_type": "markdown",
   "metadata": {},
   "source": [
    "# GraphicDesign courses in udemy"
   ]
  },
  {
   "cell_type": "code",
   "execution_count": 74,
   "metadata": {},
   "outputs": [],
   "source": [
    "import numpy as np\n",
    "import pandas as pd\n",
    "import seaborn as sns\n",
    "import matplotlib.pyplot as plt\n",
    "from io import StringIO, BytesIO"
   ]
  },
  {
   "cell_type": "code",
   "execution_count": 75,
   "metadata": {},
   "outputs": [
    {
     "data": {
      "text/html": [
       "<div>\n",
       "<style scoped>\n",
       "    .dataframe tbody tr th:only-of-type {\n",
       "        vertical-align: middle;\n",
       "    }\n",
       "\n",
       "    .dataframe tbody tr th {\n",
       "        vertical-align: top;\n",
       "    }\n",
       "\n",
       "    .dataframe thead th {\n",
       "        text-align: right;\n",
       "    }\n",
       "</style>\n",
       "<table border=\"1\" class=\"dataframe\">\n",
       "  <thead>\n",
       "    <tr style=\"text-align: right;\">\n",
       "      <th></th>\n",
       "      <th>id</th>\n",
       "      <th>title</th>\n",
       "      <th>url</th>\n",
       "      <th>isPaid</th>\n",
       "      <th>price</th>\n",
       "      <th>numSubscribers</th>\n",
       "      <th>numReviews</th>\n",
       "      <th>numPublishedLectures</th>\n",
       "      <th>instructionalLevel</th>\n",
       "      <th>contentInfo</th>\n",
       "      <th>publishedTime</th>\n",
       "      <th>Unnamed: 11</th>\n",
       "      <th>Unnamed: 12</th>\n",
       "      <th>Is Paid</th>\n",
       "      <th>Total</th>\n",
       "      <th>Column1</th>\n",
       "    </tr>\n",
       "  </thead>\n",
       "  <tbody>\n",
       "    <tr>\n",
       "      <th>0</th>\n",
       "      <td>880202</td>\n",
       "      <td>Anatomy and Figure Drawing for Beginners</td>\n",
       "      <td>https://www.udemy.com/anatomy-and-figure-drawi...</td>\n",
       "      <td>True</td>\n",
       "      <td>150</td>\n",
       "      <td>2252</td>\n",
       "      <td>240</td>\n",
       "      <td>111</td>\n",
       "      <td>Beginner Level</td>\n",
       "      <td>21 hours</td>\n",
       "      <td>2016-06-20T15:31:48Z</td>\n",
       "      <td>NaN</td>\n",
       "      <td>NaN</td>\n",
       "      <td>Yes</td>\n",
       "      <td>568.0</td>\n",
       "      <td>94%</td>\n",
       "    </tr>\n",
       "    <tr>\n",
       "      <th>1</th>\n",
       "      <td>1197206</td>\n",
       "      <td>Illustrator CC MasterClass</td>\n",
       "      <td>https://www.udemy.com/illustrator-cc-masterclass/</td>\n",
       "      <td>True</td>\n",
       "      <td>95</td>\n",
       "      <td>462</td>\n",
       "      <td>50</td>\n",
       "      <td>86</td>\n",
       "      <td>All Levels</td>\n",
       "      <td>12 hours</td>\n",
       "      <td>2017-05-02T16:41:21Z</td>\n",
       "      <td>NaN</td>\n",
       "      <td>NaN</td>\n",
       "      <td>No</td>\n",
       "      <td>35.0</td>\n",
       "      <td>6%</td>\n",
       "    </tr>\n",
       "    <tr>\n",
       "      <th>2</th>\n",
       "      <td>1117796</td>\n",
       "      <td>Typographic Logo Design in Illustrator - Begin...</td>\n",
       "      <td>https://www.udemy.com/typographical-logo-design/</td>\n",
       "      <td>True</td>\n",
       "      <td>150</td>\n",
       "      <td>1720</td>\n",
       "      <td>40</td>\n",
       "      <td>27</td>\n",
       "      <td>All Levels</td>\n",
       "      <td>1.5 hours</td>\n",
       "      <td>2017-02-23T21:40:39Z</td>\n",
       "      <td>NaN</td>\n",
       "      <td>NaN</td>\n",
       "      <td>NaN</td>\n",
       "      <td>NaN</td>\n",
       "      <td>NaN</td>\n",
       "    </tr>\n",
       "    <tr>\n",
       "      <th>3</th>\n",
       "      <td>1219520</td>\n",
       "      <td>Adobe Illustrator T-Shirt Design for Merch by ...</td>\n",
       "      <td>https://www.udemy.com/merchbyamazondesign/</td>\n",
       "      <td>True</td>\n",
       "      <td>20</td>\n",
       "      <td>390</td>\n",
       "      <td>44</td>\n",
       "      <td>15</td>\n",
       "      <td>All Levels</td>\n",
       "      <td>1 hour</td>\n",
       "      <td>2017-06-13T20:41:14Z</td>\n",
       "      <td>NaN</td>\n",
       "      <td>NaN</td>\n",
       "      <td>NaN</td>\n",
       "      <td>NaN</td>\n",
       "      <td>NaN</td>\n",
       "    </tr>\n",
       "    <tr>\n",
       "      <th>4</th>\n",
       "      <td>595876</td>\n",
       "      <td>Logo Design in Adobe Illustrator - for Beginne...</td>\n",
       "      <td>https://www.udemy.com/logodesign/</td>\n",
       "      <td>True</td>\n",
       "      <td>200</td>\n",
       "      <td>4297</td>\n",
       "      <td>337</td>\n",
       "      <td>110</td>\n",
       "      <td>All Levels</td>\n",
       "      <td>7.5 hours</td>\n",
       "      <td>2015-10-01T21:40:39Z</td>\n",
       "      <td>NaN</td>\n",
       "      <td>NaN</td>\n",
       "      <td>NaN</td>\n",
       "      <td>NaN</td>\n",
       "      <td>NaN</td>\n",
       "    </tr>\n",
       "    <tr>\n",
       "      <th>5</th>\n",
       "      <td>1216132</td>\n",
       "      <td>Learn Adobe Illustrator: Semi-Automatic Mandal...</td>\n",
       "      <td>https://www.udemy.com/learn-adobe-illustrator-...</td>\n",
       "      <td>True</td>\n",
       "      <td>200</td>\n",
       "      <td>1076</td>\n",
       "      <td>15</td>\n",
       "      <td>15</td>\n",
       "      <td>All Levels</td>\n",
       "      <td>1 hour</td>\n",
       "      <td>2017-05-22T22:53:46Z</td>\n",
       "      <td>NaN</td>\n",
       "      <td>NaN</td>\n",
       "      <td>NaN</td>\n",
       "      <td>NaN</td>\n",
       "      <td>NaN</td>\n",
       "    </tr>\n",
       "    <tr>\n",
       "      <th>6</th>\n",
       "      <td>1145736</td>\n",
       "      <td>Create Professional Looking Infographics With ...</td>\n",
       "      <td>https://www.udemy.com/create-professional-look...</td>\n",
       "      <td>True</td>\n",
       "      <td>180</td>\n",
       "      <td>9367</td>\n",
       "      <td>104</td>\n",
       "      <td>21</td>\n",
       "      <td>Beginner Level</td>\n",
       "      <td>2 hours</td>\n",
       "      <td>2017-03-21T19:00:13Z</td>\n",
       "      <td>NaN</td>\n",
       "      <td>NaN</td>\n",
       "      <td>NaN</td>\n",
       "      <td>NaN</td>\n",
       "      <td>NaN</td>\n",
       "    </tr>\n",
       "    <tr>\n",
       "      <th>7</th>\n",
       "      <td>28556</td>\n",
       "      <td>Discover How to Draw and paint Comics</td>\n",
       "      <td>https://www.udemy.com/learn-to-draw-and-paint/</td>\n",
       "      <td>True</td>\n",
       "      <td>65</td>\n",
       "      <td>8901</td>\n",
       "      <td>424</td>\n",
       "      <td>85</td>\n",
       "      <td>All Levels</td>\n",
       "      <td>62 hours</td>\n",
       "      <td>2012-11-21T22:03:54Z</td>\n",
       "      <td>NaN</td>\n",
       "      <td>NaN</td>\n",
       "      <td>NaN</td>\n",
       "      <td>NaN</td>\n",
       "      <td>NaN</td>\n",
       "    </tr>\n",
       "    <tr>\n",
       "      <th>8</th>\n",
       "      <td>317278</td>\n",
       "      <td>Typographic Logos: Typography and Lettering fo...</td>\n",
       "      <td>https://www.udemy.com/typographic-logos-typogr...</td>\n",
       "      <td>True</td>\n",
       "      <td>25</td>\n",
       "      <td>4235</td>\n",
       "      <td>427</td>\n",
       "      <td>20</td>\n",
       "      <td>Intermediate Level</td>\n",
       "      <td>1.5 hours</td>\n",
       "      <td>2014-10-16T19:30:01Z</td>\n",
       "      <td>NaN</td>\n",
       "      <td>NaN</td>\n",
       "      <td>NaN</td>\n",
       "      <td>NaN</td>\n",
       "      <td>NaN</td>\n",
       "    </tr>\n",
       "    <tr>\n",
       "      <th>9</th>\n",
       "      <td>573064</td>\n",
       "      <td>Photoshop in Ease: Create World Amazing  Graph...</td>\n",
       "      <td>https://www.udemy.com/photoshop-knights-become...</td>\n",
       "      <td>True</td>\n",
       "      <td>20</td>\n",
       "      <td>14440</td>\n",
       "      <td>182</td>\n",
       "      <td>26</td>\n",
       "      <td>All Levels</td>\n",
       "      <td>3 hours</td>\n",
       "      <td>2015-08-13T21:17:34Z</td>\n",
       "      <td>NaN</td>\n",
       "      <td>NaN</td>\n",
       "      <td>NaN</td>\n",
       "      <td>NaN</td>\n",
       "      <td>NaN</td>\n",
       "    </tr>\n",
       "  </tbody>\n",
       "</table>\n",
       "</div>"
      ],
      "text/plain": [
       "        id                                              title  \\\n",
       "0   880202           Anatomy and Figure Drawing for Beginners   \n",
       "1  1197206                         Illustrator CC MasterClass   \n",
       "2  1117796  Typographic Logo Design in Illustrator - Begin...   \n",
       "3  1219520  Adobe Illustrator T-Shirt Design for Merch by ...   \n",
       "4   595876  Logo Design in Adobe Illustrator - for Beginne...   \n",
       "5  1216132  Learn Adobe Illustrator: Semi-Automatic Mandal...   \n",
       "6  1145736  Create Professional Looking Infographics With ...   \n",
       "7    28556              Discover How to Draw and paint Comics   \n",
       "8   317278  Typographic Logos: Typography and Lettering fo...   \n",
       "9   573064  Photoshop in Ease: Create World Amazing  Graph...   \n",
       "\n",
       "                                                 url  isPaid price  \\\n",
       "0  https://www.udemy.com/anatomy-and-figure-drawi...    True   150   \n",
       "1  https://www.udemy.com/illustrator-cc-masterclass/    True    95   \n",
       "2   https://www.udemy.com/typographical-logo-design/    True   150   \n",
       "3         https://www.udemy.com/merchbyamazondesign/    True    20   \n",
       "4                  https://www.udemy.com/logodesign/    True   200   \n",
       "5  https://www.udemy.com/learn-adobe-illustrator-...    True   200   \n",
       "6  https://www.udemy.com/create-professional-look...    True   180   \n",
       "7     https://www.udemy.com/learn-to-draw-and-paint/    True    65   \n",
       "8  https://www.udemy.com/typographic-logos-typogr...    True    25   \n",
       "9  https://www.udemy.com/photoshop-knights-become...    True    20   \n",
       "\n",
       "   numSubscribers  numReviews  numPublishedLectures  instructionalLevel  \\\n",
       "0            2252         240                   111      Beginner Level   \n",
       "1             462          50                    86          All Levels   \n",
       "2            1720          40                    27          All Levels   \n",
       "3             390          44                    15          All Levels   \n",
       "4            4297         337                   110          All Levels   \n",
       "5            1076          15                    15          All Levels   \n",
       "6            9367         104                    21      Beginner Level   \n",
       "7            8901         424                    85          All Levels   \n",
       "8            4235         427                    20  Intermediate Level   \n",
       "9           14440         182                    26          All Levels   \n",
       "\n",
       "  contentInfo         publishedTime  Unnamed: 11  Unnamed: 12 Is Paid  Total  \\\n",
       "0    21 hours  2016-06-20T15:31:48Z          NaN          NaN     Yes  568.0   \n",
       "1    12 hours  2017-05-02T16:41:21Z          NaN          NaN      No   35.0   \n",
       "2   1.5 hours  2017-02-23T21:40:39Z          NaN          NaN     NaN    NaN   \n",
       "3      1 hour  2017-06-13T20:41:14Z          NaN          NaN     NaN    NaN   \n",
       "4   7.5 hours  2015-10-01T21:40:39Z          NaN          NaN     NaN    NaN   \n",
       "5      1 hour  2017-05-22T22:53:46Z          NaN          NaN     NaN    NaN   \n",
       "6     2 hours  2017-03-21T19:00:13Z          NaN          NaN     NaN    NaN   \n",
       "7    62 hours  2012-11-21T22:03:54Z          NaN          NaN     NaN    NaN   \n",
       "8   1.5 hours  2014-10-16T19:30:01Z          NaN          NaN     NaN    NaN   \n",
       "9     3 hours  2015-08-13T21:17:34Z          NaN          NaN     NaN    NaN   \n",
       "\n",
       "  Column1  \n",
       "0     94%  \n",
       "1      6%  \n",
       "2     NaN  \n",
       "3     NaN  \n",
       "4     NaN  \n",
       "5     NaN  \n",
       "6     NaN  \n",
       "7     NaN  \n",
       "8     NaN  \n",
       "9     NaN  "
      ]
     },
     "execution_count": 75,
     "metadata": {},
     "output_type": "execute_result"
    }
   ],
   "source": [
    "data=pd.read_csv(\"./GraphicDesign.csv\")\n",
    "data.head(10)"
   ]
  },
  {
   "cell_type": "code",
   "execution_count": 76,
   "metadata": {},
   "outputs": [],
   "source": [
    "df=data.iloc[:,0:10]"
   ]
  },
  {
   "cell_type": "code",
   "execution_count": 77,
   "metadata": {},
   "outputs": [
    {
     "data": {
      "text/plain": [
       "False"
      ]
     },
     "execution_count": 77,
     "metadata": {},
     "output_type": "execute_result"
    }
   ],
   "source": [
    "df.isnull().values.any()"
   ]
  },
  {
   "cell_type": "code",
   "execution_count": 82,
   "metadata": {},
   "outputs": [],
   "source": [
    "data2=df.replace(to_replace=[\"Free\",],value=[0])\n",
    "ss={'price':float,'numSubscribers':float,'numReviews':float,'numPublishedLectures':float}\n",
    "df=data2.astype(ss)"
   ]
  },
  {
   "cell_type": "code",
   "execution_count": 83,
   "metadata": {},
   "outputs": [
    {
     "data": {
      "text/html": [
       "<div>\n",
       "<style scoped>\n",
       "    .dataframe tbody tr th:only-of-type {\n",
       "        vertical-align: middle;\n",
       "    }\n",
       "\n",
       "    .dataframe tbody tr th {\n",
       "        vertical-align: top;\n",
       "    }\n",
       "\n",
       "    .dataframe thead th {\n",
       "        text-align: right;\n",
       "    }\n",
       "</style>\n",
       "<table border=\"1\" class=\"dataframe\">\n",
       "  <thead>\n",
       "    <tr style=\"text-align: right;\">\n",
       "      <th></th>\n",
       "      <th>id</th>\n",
       "      <th>title</th>\n",
       "      <th>url</th>\n",
       "      <th>isPaid</th>\n",
       "      <th>price</th>\n",
       "      <th>numSubscribers</th>\n",
       "      <th>numReviews</th>\n",
       "      <th>numPublishedLectures</th>\n",
       "      <th>instructionalLevel</th>\n",
       "      <th>contentInfo</th>\n",
       "    </tr>\n",
       "  </thead>\n",
       "  <tbody>\n",
       "    <tr>\n",
       "      <th>0</th>\n",
       "      <td>880202</td>\n",
       "      <td>Anatomy and Figure Drawing for Beginners</td>\n",
       "      <td>https://www.udemy.com/anatomy-and-figure-drawi...</td>\n",
       "      <td>True</td>\n",
       "      <td>150.0</td>\n",
       "      <td>2252.0</td>\n",
       "      <td>240.0</td>\n",
       "      <td>111.0</td>\n",
       "      <td>Beginner Level</td>\n",
       "      <td>21 hours</td>\n",
       "    </tr>\n",
       "    <tr>\n",
       "      <th>1</th>\n",
       "      <td>1197206</td>\n",
       "      <td>Illustrator CC MasterClass</td>\n",
       "      <td>https://www.udemy.com/illustrator-cc-masterclass/</td>\n",
       "      <td>True</td>\n",
       "      <td>95.0</td>\n",
       "      <td>462.0</td>\n",
       "      <td>50.0</td>\n",
       "      <td>86.0</td>\n",
       "      <td>All Levels</td>\n",
       "      <td>12 hours</td>\n",
       "    </tr>\n",
       "    <tr>\n",
       "      <th>2</th>\n",
       "      <td>1117796</td>\n",
       "      <td>Typographic Logo Design in Illustrator - Begin...</td>\n",
       "      <td>https://www.udemy.com/typographical-logo-design/</td>\n",
       "      <td>True</td>\n",
       "      <td>150.0</td>\n",
       "      <td>1720.0</td>\n",
       "      <td>40.0</td>\n",
       "      <td>27.0</td>\n",
       "      <td>All Levels</td>\n",
       "      <td>1.5 hours</td>\n",
       "    </tr>\n",
       "    <tr>\n",
       "      <th>3</th>\n",
       "      <td>1219520</td>\n",
       "      <td>Adobe Illustrator T-Shirt Design for Merch by ...</td>\n",
       "      <td>https://www.udemy.com/merchbyamazondesign/</td>\n",
       "      <td>True</td>\n",
       "      <td>20.0</td>\n",
       "      <td>390.0</td>\n",
       "      <td>44.0</td>\n",
       "      <td>15.0</td>\n",
       "      <td>All Levels</td>\n",
       "      <td>1 hour</td>\n",
       "    </tr>\n",
       "    <tr>\n",
       "      <th>4</th>\n",
       "      <td>595876</td>\n",
       "      <td>Logo Design in Adobe Illustrator - for Beginne...</td>\n",
       "      <td>https://www.udemy.com/logodesign/</td>\n",
       "      <td>True</td>\n",
       "      <td>200.0</td>\n",
       "      <td>4297.0</td>\n",
       "      <td>337.0</td>\n",
       "      <td>110.0</td>\n",
       "      <td>All Levels</td>\n",
       "      <td>7.5 hours</td>\n",
       "    </tr>\n",
       "  </tbody>\n",
       "</table>\n",
       "</div>"
      ],
      "text/plain": [
       "        id                                              title  \\\n",
       "0   880202           Anatomy and Figure Drawing for Beginners   \n",
       "1  1197206                         Illustrator CC MasterClass   \n",
       "2  1117796  Typographic Logo Design in Illustrator - Begin...   \n",
       "3  1219520  Adobe Illustrator T-Shirt Design for Merch by ...   \n",
       "4   595876  Logo Design in Adobe Illustrator - for Beginne...   \n",
       "\n",
       "                                                 url  isPaid  price  \\\n",
       "0  https://www.udemy.com/anatomy-and-figure-drawi...    True  150.0   \n",
       "1  https://www.udemy.com/illustrator-cc-masterclass/    True   95.0   \n",
       "2   https://www.udemy.com/typographical-logo-design/    True  150.0   \n",
       "3         https://www.udemy.com/merchbyamazondesign/    True   20.0   \n",
       "4                  https://www.udemy.com/logodesign/    True  200.0   \n",
       "\n",
       "   numSubscribers  numReviews  numPublishedLectures instructionalLevel  \\\n",
       "0          2252.0       240.0                 111.0     Beginner Level   \n",
       "1           462.0        50.0                  86.0         All Levels   \n",
       "2          1720.0        40.0                  27.0         All Levels   \n",
       "3           390.0        44.0                  15.0         All Levels   \n",
       "4          4297.0       337.0                 110.0         All Levels   \n",
       "\n",
       "  contentInfo  \n",
       "0    21 hours  \n",
       "1    12 hours  \n",
       "2   1.5 hours  \n",
       "3      1 hour  \n",
       "4   7.5 hours  "
      ]
     },
     "execution_count": 83,
     "metadata": {},
     "output_type": "execute_result"
    }
   ],
   "source": [
    "df.head()"
   ]
  },
  {
   "cell_type": "code",
   "execution_count": 84,
   "metadata": {},
   "outputs": [
    {
     "data": {
      "text/html": [
       "<div>\n",
       "<style scoped>\n",
       "    .dataframe tbody tr th:only-of-type {\n",
       "        vertical-align: middle;\n",
       "    }\n",
       "\n",
       "    .dataframe tbody tr th {\n",
       "        vertical-align: top;\n",
       "    }\n",
       "\n",
       "    .dataframe thead th {\n",
       "        text-align: right;\n",
       "    }\n",
       "</style>\n",
       "<table border=\"1\" class=\"dataframe\">\n",
       "  <thead>\n",
       "    <tr style=\"text-align: right;\">\n",
       "      <th></th>\n",
       "      <th>All Levels</th>\n",
       "      <th>Beginner Level</th>\n",
       "      <th>Intermediate Level</th>\n",
       "      <th>Expert Level</th>\n",
       "    </tr>\n",
       "  </thead>\n",
       "  <tbody>\n",
       "    <tr>\n",
       "      <th>instructionalLevel</th>\n",
       "      <td>298</td>\n",
       "      <td>243</td>\n",
       "      <td>57</td>\n",
       "      <td>5</td>\n",
       "    </tr>\n",
       "  </tbody>\n",
       "</table>\n",
       "</div>"
      ],
      "text/plain": [
       "                    All Levels  Beginner Level  Intermediate Level  \\\n",
       "instructionalLevel         298             243                  57   \n",
       "\n",
       "                    Expert Level  \n",
       "instructionalLevel             5  "
      ]
     },
     "execution_count": 84,
     "metadata": {},
     "output_type": "execute_result"
    }
   ],
   "source": [
    "sp=df['instructionalLevel'].value_counts()\n",
    "sp=pd.DataFrame(sp)\n",
    "sp.T"
   ]
  },
  {
   "cell_type": "code",
   "execution_count": 85,
   "metadata": {},
   "outputs": [
    {
     "data": {
      "image/png": "[encoded data removed]",
      "text/plain": [
       "<Figure size 432x288 with 1 Axes>"
      ]
     },
     "metadata": {
      "needs_background": "light"
     },
     "output_type": "display_data"
    }
   ],
   "source": [
    "sns.barplot(x=sp.index,y=sp['instructionalLevel'])\n",
    "plt.xlabel('instructionalLevel')\n",
    "plt.ylabel('CountOfInstructionalLevel')\n",
    "plt.show()"
   ]
  },
  {
   "cell_type": "code",
   "execution_count": 86,
   "metadata": {},
   "outputs": [
    {
     "data": {
      "text/html": [
       "<div>\n",
       "<style scoped>\n",
       "    .dataframe tbody tr th:only-of-type {\n",
       "        vertical-align: middle;\n",
       "    }\n",
       "\n",
       "    .dataframe tbody tr th {\n",
       "        vertical-align: top;\n",
       "    }\n",
       "\n",
       "    .dataframe thead th {\n",
       "        text-align: right;\n",
       "    }\n",
       "</style>\n",
       "<table border=\"1\" class=\"dataframe\">\n",
       "  <thead>\n",
       "    <tr style=\"text-align: right;\">\n",
       "      <th></th>\n",
       "      <th>id</th>\n",
       "      <th>isPaid</th>\n",
       "      <th>price</th>\n",
       "      <th>numSubscribers</th>\n",
       "      <th>numReviews</th>\n",
       "      <th>numPublishedLectures</th>\n",
       "    </tr>\n",
       "  </thead>\n",
       "  <tbody>\n",
       "    <tr>\n",
       "      <th>id</th>\n",
       "      <td>1.000000</td>\n",
       "      <td>-0.082700</td>\n",
       "      <td>0.120653</td>\n",
       "      <td>-0.171572</td>\n",
       "      <td>-0.131980</td>\n",
       "      <td>0.001443</td>\n",
       "    </tr>\n",
       "    <tr>\n",
       "      <th>isPaid</th>\n",
       "      <td>-0.082700</td>\n",
       "      <td>1.000000</td>\n",
       "      <td>0.251113</td>\n",
       "      <td>-0.321685</td>\n",
       "      <td>-0.280662</td>\n",
       "      <td>0.095752</td>\n",
       "    </tr>\n",
       "    <tr>\n",
       "      <th>price</th>\n",
       "      <td>0.120653</td>\n",
       "      <td>0.251113</td>\n",
       "      <td>1.000000</td>\n",
       "      <td>0.091436</td>\n",
       "      <td>0.074348</td>\n",
       "      <td>0.289129</td>\n",
       "    </tr>\n",
       "    <tr>\n",
       "      <th>numSubscribers</th>\n",
       "      <td>-0.171572</td>\n",
       "      <td>-0.321685</td>\n",
       "      <td>0.091436</td>\n",
       "      <td>1.000000</td>\n",
       "      <td>0.732683</td>\n",
       "      <td>0.047529</td>\n",
       "    </tr>\n",
       "    <tr>\n",
       "      <th>numReviews</th>\n",
       "      <td>-0.131980</td>\n",
       "      <td>-0.280662</td>\n",
       "      <td>0.074348</td>\n",
       "      <td>0.732683</td>\n",
       "      <td>1.000000</td>\n",
       "      <td>0.138813</td>\n",
       "    </tr>\n",
       "    <tr>\n",
       "      <th>numPublishedLectures</th>\n",
       "      <td>0.001443</td>\n",
       "      <td>0.095752</td>\n",
       "      <td>0.289129</td>\n",
       "      <td>0.047529</td>\n",
       "      <td>0.138813</td>\n",
       "      <td>1.000000</td>\n",
       "    </tr>\n",
       "  </tbody>\n",
       "</table>\n",
       "</div>"
      ],
      "text/plain": [
       "                            id    isPaid     price  numSubscribers  \\\n",
       "id                    1.000000 -0.082700  0.120653       -0.171572   \n",
       "isPaid               -0.082700  1.000000  0.251113       -0.321685   \n",
       "price                 0.120653  0.251113  1.000000        0.091436   \n",
       "numSubscribers       -0.171572 -0.321685  0.091436        1.000000   \n",
       "numReviews           -0.131980 -0.280662  0.074348        0.732683   \n",
       "numPublishedLectures  0.001443  0.095752  0.289129        0.047529   \n",
       "\n",
       "                      numReviews  numPublishedLectures  \n",
       "id                     -0.131980              0.001443  \n",
       "isPaid                 -0.280662              0.095752  \n",
       "price                   0.074348              0.289129  \n",
       "numSubscribers          0.732683              0.047529  \n",
       "numReviews              1.000000              0.138813  \n",
       "numPublishedLectures    0.138813              1.000000  "
      ]
     },
     "execution_count": 86,
     "metadata": {},
     "output_type": "execute_result"
    }
   ],
   "source": [
    "df.corr()"
   ]
  },
  {
   "cell_type": "code",
   "execution_count": 87,
   "metadata": {},
   "outputs": [
    {
     "data": {
      "text/plain": [
       "<matplotlib.axes._subplots.AxesSubplot at 0x12269aa60>"
      ]
     },
     "execution_count": 87,
     "metadata": {},
     "output_type": "execute_result"
    },
    {
     "data": {
      "image/png": "[encoded data removed]",
      "text/plain": [
       "<Figure size 432x288 with 2 Axes>"
      ]
     },
     "metadata": {
      "needs_background": "light"
     },
     "output_type": "display_data"
    }
   ],
   "source": [
    "sns.heatmap(df.corr(),annot=True,cmap='PuBuGn')"
   ]
  },
  {
   "cell_type": "code",
   "execution_count": 88,
   "metadata": {},
   "outputs": [
    {
     "data": {
      "text/html": [
       "<div>\n",
       "<style scoped>\n",
       "    .dataframe tbody tr th:only-of-type {\n",
       "        vertical-align: middle;\n",
       "    }\n",
       "\n",
       "    .dataframe tbody tr th {\n",
       "        vertical-align: top;\n",
       "    }\n",
       "\n",
       "    .dataframe thead th {\n",
       "        text-align: right;\n",
       "    }\n",
       "</style>\n",
       "<table border=\"1\" class=\"dataframe\">\n",
       "  <thead>\n",
       "    <tr style=\"text-align: right;\">\n",
       "      <th></th>\n",
       "      <th>count</th>\n",
       "      <th>mean</th>\n",
       "      <th>std</th>\n",
       "      <th>min</th>\n",
       "      <th>25%</th>\n",
       "      <th>50%</th>\n",
       "      <th>75%</th>\n",
       "      <th>max</th>\n",
       "    </tr>\n",
       "  </thead>\n",
       "  <tbody>\n",
       "    <tr>\n",
       "      <th>id</th>\n",
       "      <td>603.0</td>\n",
       "      <td>720273.257048</td>\n",
       "      <td>347586.461655</td>\n",
       "      <td>15467.0</td>\n",
       "      <td>448499.0</td>\n",
       "      <td>733654.0</td>\n",
       "      <td>1023416.0</td>\n",
       "      <td>1276020.0</td>\n",
       "    </tr>\n",
       "    <tr>\n",
       "      <th>price</th>\n",
       "      <td>603.0</td>\n",
       "      <td>57.827529</td>\n",
       "      <td>57.211708</td>\n",
       "      <td>0.0</td>\n",
       "      <td>20.0</td>\n",
       "      <td>30.0</td>\n",
       "      <td>80.0</td>\n",
       "      <td>200.0</td>\n",
       "    </tr>\n",
       "    <tr>\n",
       "      <th>numSubscribers</th>\n",
       "      <td>603.0</td>\n",
       "      <td>1763.097844</td>\n",
       "      <td>4923.176517</td>\n",
       "      <td>0.0</td>\n",
       "      <td>34.5</td>\n",
       "      <td>384.0</td>\n",
       "      <td>1443.5</td>\n",
       "      <td>53851.0</td>\n",
       "    </tr>\n",
       "    <tr>\n",
       "      <th>numReviews</th>\n",
       "      <td>603.0</td>\n",
       "      <td>61.475954</td>\n",
       "      <td>213.061096</td>\n",
       "      <td>0.0</td>\n",
       "      <td>3.0</td>\n",
       "      <td>10.0</td>\n",
       "      <td>31.0</td>\n",
       "      <td>2379.0</td>\n",
       "    </tr>\n",
       "    <tr>\n",
       "      <th>numPublishedLectures</th>\n",
       "      <td>603.0</td>\n",
       "      <td>32.054726</td>\n",
       "      <td>31.351326</td>\n",
       "      <td>5.0</td>\n",
       "      <td>12.5</td>\n",
       "      <td>21.0</td>\n",
       "      <td>39.0</td>\n",
       "      <td>225.0</td>\n",
       "    </tr>\n",
       "  </tbody>\n",
       "</table>\n",
       "</div>"
      ],
      "text/plain": [
       "                      count           mean            std      min       25%  \\\n",
       "id                    603.0  720273.257048  347586.461655  15467.0  448499.0   \n",
       "price                 603.0      57.827529      57.211708      0.0      20.0   \n",
       "numSubscribers        603.0    1763.097844    4923.176517      0.0      34.5   \n",
       "numReviews            603.0      61.475954     213.061096      0.0       3.0   \n",
       "numPublishedLectures  603.0      32.054726      31.351326      5.0      12.5   \n",
       "\n",
       "                           50%        75%        max  \n",
       "id                    733654.0  1023416.0  1276020.0  \n",
       "price                     30.0       80.0      200.0  \n",
       "numSubscribers           384.0     1443.5    53851.0  \n",
       "numReviews                10.0       31.0     2379.0  \n",
       "numPublishedLectures      21.0       39.0      225.0  "
      ]
     },
     "execution_count": 88,
     "metadata": {},
     "output_type": "execute_result"
    }
   ],
   "source": [
    "df.describe().T"
   ]
  },
  {
   "cell_type": "code",
   "execution_count": 142,
   "metadata": {},
   "outputs": [],
   "source": [
    "\n",
    "y=df['numSubscribers']\n",
    "X=df.iloc[:,4:8]"
   ]
  },
  {
   "cell_type": "code",
   "execution_count": 143,
   "metadata": {},
   "outputs": [],
   "source": [
    "from sklearn.model_selection import train_test_split\n",
    "X_train, X_test, y_train, y_test = train_test_split(X, y, test_size=0.2, random_state=1)"
   ]
  },
  {
   "cell_type": "code",
   "execution_count": 144,
   "metadata": {},
   "outputs": [
    {
     "name": "stdout",
     "output_type": "stream",
     "text": [
      "How many samples do we have in our test and train datasets?\n",
      "X_train:  (482, 4)\n",
      "y_train:  (482,)\n",
      "X_test:  (121, 4)\n",
      "y_test:  (121,)\n"
     ]
    }
   ],
   "source": [
    "print('How many samples do we have in our test and train datasets?')\n",
    "print('X_train: ', np.shape(X_train))\n",
    "print('y_train: ', np.shape(y_train))\n",
    "print('X_test: ', np.shape(X_test))\n",
    "print('y_test: ', np.shape(y_test))"
   ]
  },
  {
   "cell_type": "code",
   "execution_count": 145,
   "metadata": {},
   "outputs": [],
   "source": [
    "import statsmodels.formula.api as smf\n",
    "from sklearn.linear_model import LinearRegression\n",
    "from sklearn.metrics import mean_squared_error, r2_score"
   ]
  },
  {
   "cell_type": "code",
   "execution_count": 146,
   "metadata": {},
   "outputs": [
    {
     "data": {
      "text/plain": [
       "LinearRegression()"
      ]
     },
     "execution_count": 146,
     "metadata": {},
     "output_type": "execute_result"
    }
   ],
   "source": [
    "reg = LinearRegression()\n",
    "reg.fit(X_train,y_train)"
   ]
  },
  {
   "cell_type": "code",
   "execution_count": 147,
   "metadata": {},
   "outputs": [
    {
     "name": "stdout",
     "output_type": "stream",
     "text": [
      "Model intercept:  4.547473508864641e-13\n",
      "Model coefficients:  [ 1.07777586e-14  1.00000000e+00  7.13287230e-16 -1.84460049e-14]\n"
     ]
    }
   ],
   "source": [
    "print('Model intercept: ', reg.intercept_)\n",
    "print('Model coefficients: ', reg.coef_)"
   ]
  },
  {
   "cell_type": "code",
   "execution_count": 149,
   "metadata": {},
   "outputs": [
    {
     "name": "stdout",
     "output_type": "stream",
     "text": [
      "y = 0.00 + 0.00*X1 1.00*X2 0.00*X3\n"
     ]
    }
   ],
   "source": [
    "print('y = ' + str('%.2f' % reg.intercept_) + ' + ' + str('%.2f' % reg.coef_[0]) + '*X1 ' + str('%.2f' % reg.coef_[1]) + '*X2 ' +\n",
    "      str('%.2f' % reg.coef_[2]) + '*X3')"
   ]
  },
  {
   "cell_type": "code",
   "execution_count": 150,
   "metadata": {},
   "outputs": [],
   "source": [
    "y_head = reg.predict(X_train)"
   ]
  },
  {
   "cell_type": "code",
   "execution_count": 151,
   "metadata": {},
   "outputs": [
    {
     "data": {
      "text/plain": [
       "1.0"
      ]
     },
     "execution_count": 151,
     "metadata": {},
     "output_type": "execute_result"
    }
   ],
   "source": [
    "r2_score(y_train, y_head)"
   ]
  },
  {
   "cell_type": "code",
   "execution_count": 152,
   "metadata": {},
   "outputs": [
    {
     "name": "stdout",
     "output_type": "stream",
     "text": [
      "[1. 1. 1. 1. 1. 1. 1. 1. 1. 1.]\n"
     ]
    }
   ],
   "source": [
    "from sklearn.model_selection import cross_val_score\n",
    "cross_val_score_train = cross_val_score(reg, X_train, y_train, cv=10, scoring='r2')\n",
    "print(cross_val_score_train)"
   ]
  },
  {
   "cell_type": "code",
   "execution_count": 153,
   "metadata": {},
   "outputs": [
    {
     "data": {
      "text/plain": [
       "1.0"
      ]
     },
     "execution_count": 153,
     "metadata": {},
     "output_type": "execute_result"
    }
   ],
   "source": [
    "cross_val_score_train.mean()"
   ]
  },
  {
   "cell_type": "code",
   "execution_count": 154,
   "metadata": {},
   "outputs": [],
   "source": [
    "y_pred = reg.predict(X_test)"
   ]
  },
  {
   "cell_type": "code",
   "execution_count": 155,
   "metadata": {},
   "outputs": [
    {
     "name": "stdout",
     "output_type": "stream",
     "text": [
      "1.0\n"
     ]
    }
   ],
   "source": [
    "print(r2_score(y_test, y_pred))"
   ]
  },
  {
   "cell_type": "code",
   "execution_count": 156,
   "metadata": {},
   "outputs": [
    {
     "data": {
      "image/png": "[encoded data removed]",
      "text/plain": [
       "<Figure size 432x288 with 1 Axes>"
      ]
     },
     "metadata": {
      "needs_background": "light"
     },
     "output_type": "display_data"
    }
   ],
   "source": [
    "plt.scatter(X_test['numReviews'], y_test, color='red', alpha=0.9)\n",
    "plt.scatter(X_test['numReviews'], y_pred, color='green', alpha=0.4)\n",
    "plt.ylabel('numSubscribers')\n",
    "plt.xlabel('numReviews')\n",
    "plt.title('Linear Regression Model for number of subscriber Estimation');"
   ]
  },
  {
   "cell_type": "code",
   "execution_count": 157,
   "metadata": {},
   "outputs": [
    {
     "data": {
      "image/png": "[encoded data removed]",
      "text/plain": [
       "<Figure size 432x288 with 1 Axes>"
      ]
     },
     "metadata": {
      "needs_background": "light"
     },
     "output_type": "display_data"
    }
   ],
   "source": [
    "plt.scatter(X_test['price'], y_test, color='red', alpha=0.9)\n",
    "plt.scatter(X_test['price'], y_pred, color='green', alpha=0.4)\n",
    "plt.xlabel('price')\n",
    "plt.ylabel('numSubscribers')\n",
    "plt.title('Linear Regression Model for number of subscriber Estimation');"
   ]
  },
  {
   "cell_type": "code",
   "execution_count": 158,
   "metadata": {},
   "outputs": [
    {
     "data": {
      "image/png": "[encoded data removed]",
      "text/plain": [
       "<Figure size 432x288 with 1 Axes>"
      ]
     },
     "metadata": {
      "needs_background": "light"
     },
     "output_type": "display_data"
    }
   ],
   "source": [
    "plt.scatter(X_test['numPublishedLectures'], y_test, color='red', alpha=0.9)\n",
    "plt.scatter(X_test['numPublishedLectures'], y_pred, color='green', alpha=0.4)\n",
    "plt.xlabel('numPublishedLectures')\n",
    "plt.ylabel('numSubscribers')\n",
    "plt.title('Linear Regression Model for number of subscriber Estimation');"
   ]
  },
  {
   "cell_type": "code",
   "execution_count": null,
   "metadata": {},
   "outputs": [],
   "source": []
  }
 ],
 "metadata": {
  "kernelspec": {
   "display_name": "Python 3",
   "language": "python",
   "name": "python3"
  },
  "language_info": {
   "codemirror_mode": {
    "name": "ipython",
    "version": 3
   },
   "file_extension": ".py",
   "mimetype": "text/x-python",
   "name": "python",
   "nbconvert_exporter": "python",
   "pygments_lexer": "ipython3",
   "version": "3.8.3"
  }
 },
 "nbformat": 4,
 "nbformat_minor": 4
}
